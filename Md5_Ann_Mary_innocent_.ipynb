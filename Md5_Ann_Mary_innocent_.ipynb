{
  "nbformat": 4,
  "nbformat_minor": 0,
  "metadata": {
    "colab": {
      "name": "Md5 Ann Mary innocent .ipynb",
      "provenance": [],
      "collapsed_sections": []
    },
    "kernelspec": {
      "name": "python3",
      "display_name": "Python 3"
    },
    "language_info": {
      "name": "python"
    }
  },
  "cells": [
    {
      "cell_type": "markdown",
      "metadata": {
        "id": "GMu8-xgD5Hu_"
      },
      "source": [
        "Part one for certification"
      ]
    },
    {
      "cell_type": "code",
      "metadata": {
        "id": "n3zH6oFuM7FQ"
      },
      "source": [
        "import hashlib"
      ],
      "execution_count": 1,
      "outputs": []
    },
    {
      "cell_type": "code",
      "metadata": {
        "id": "RZj9nMvhM_qA"
      },
      "source": [
        "text = \"I am Harsh\""
      ],
      "execution_count": 2,
      "outputs": []
    },
    {
      "cell_type": "code",
      "metadata": {
        "id": "0Ztm3RMmNS0H"
      },
      "source": [
        "hash_obj1 = hashlib.md5(text.encode())\n"
      ],
      "execution_count": 3,
      "outputs": []
    },
    {
      "cell_type": "code",
      "metadata": {
        "id": "xuG2xjFHNedt"
      },
      "source": [
        "md5_hash = hash_obj1.hexdigest()"
      ],
      "execution_count": 4,
      "outputs": []
    },
    {
      "cell_type": "code",
      "metadata": {
        "colab": {
          "base_uri": "https://localhost:8080/"
        },
        "id": "W8AHZmq9Nnm2",
        "outputId": "afff61f6-5e01-4288-eb3c-3d6c62c52aa7"
      },
      "source": [
        "print(\"The md5 hash of the given text is \"+ md5_hash)"
      ],
      "execution_count": 5,
      "outputs": [
        {
          "output_type": "stream",
          "text": [
            "The md5 hash of the given text is e0b7228ac01c09860018c61a3c9ae77a\n"
          ],
          "name": "stdout"
        }
      ]
    },
    {
      "cell_type": "markdown",
      "metadata": {
        "id": "EO7jaG0aY6tv"
      },
      "source": [
        "Second part"
      ]
    },
    {
      "cell_type": "markdown",
      "metadata": {
        "id": "MzbpVHDEZD8m"
      },
      "source": [
        "sha256"
      ]
    },
    {
      "cell_type": "code",
      "metadata": {
        "id": "NHyCKphkXtnM"
      },
      "source": [
        "hash_obj2 = hashlib.sha256(text.encode())"
      ],
      "execution_count": 6,
      "outputs": []
    },
    {
      "cell_type": "code",
      "metadata": {
        "id": "1248BpTKX-rA"
      },
      "source": [
        "sha256_hash = hash_obj2.hexdigest()"
      ],
      "execution_count": 7,
      "outputs": []
    },
    {
      "cell_type": "code",
      "metadata": {
        "colab": {
          "base_uri": "https://localhost:8080/"
        },
        "id": "u2W19YbiYPti",
        "outputId": "e08a3476-b7c0-417c-f89b-69bdd2a4d646"
      },
      "source": [
        "print(\"The sha256 hash of the given text is \"+ sha256_hash)"
      ],
      "execution_count": 8,
      "outputs": [
        {
          "output_type": "stream",
          "text": [
            "The sha256 hash of the given text is 575687ccfc9b353f91b4120bb606d7eb63ddfe4d827cba6097f9384066c7df07\n"
          ],
          "name": "stdout"
        }
      ]
    },
    {
      "cell_type": "markdown",
      "metadata": {
        "id": "GO4ziPkmZCd0"
      },
      "source": [
        "shake256"
      ]
    },
    {
      "cell_type": "code",
      "metadata": {
        "id": "9novKKT6ZBRJ"
      },
      "source": [
        "hash_obj3 = hashlib.shake_256(text.encode())"
      ],
      "execution_count": 9,
      "outputs": []
    },
    {
      "cell_type": "code",
      "metadata": {
        "id": "BMR0E6cHZw4B"
      },
      "source": [
        "shake256_hash = hash_obj3.hexdigest(8)"
      ],
      "execution_count": 10,
      "outputs": []
    },
    {
      "cell_type": "code",
      "metadata": {
        "colab": {
          "base_uri": "https://localhost:8080/"
        },
        "id": "tLhn2AhNZ9Gv",
        "outputId": "2b01c851-83b0-43aa-e1a7-b48042f4431a"
      },
      "source": [
        "print(\"The shake256 hash of the given text is \"+ shake256_hash)"
      ],
      "execution_count": 11,
      "outputs": [
        {
          "output_type": "stream",
          "text": [
            "The shake256 hash of the given text is 093a95107f182065\n"
          ],
          "name": "stdout"
        }
      ]
    },
    {
      "cell_type": "markdown",
      "metadata": {
        "id": "VofC9ja9dX29"
      },
      "source": [
        "blake2b"
      ]
    },
    {
      "cell_type": "code",
      "metadata": {
        "id": "Wz9AEeA6db4X"
      },
      "source": [
        "hash_obj4 = hashlib.blake2b(text.encode())"
      ],
      "execution_count": 12,
      "outputs": []
    },
    {
      "cell_type": "code",
      "metadata": {
        "id": "Eitn_gNidm5y"
      },
      "source": [
        "blake2b_hash = hash_obj4.hexdigest()"
      ],
      "execution_count": 13,
      "outputs": []
    },
    {
      "cell_type": "code",
      "metadata": {
        "colab": {
          "base_uri": "https://localhost:8080/"
        },
        "id": "YLadqzcodtK-",
        "outputId": "95804479-9ca5-42f3-fe98-275fcdac441f"
      },
      "source": [
        "print(\"The blake2b hash of the given text is \"+ blake2b_hash)"
      ],
      "execution_count": 14,
      "outputs": [
        {
          "output_type": "stream",
          "text": [
            "The blake2b hash of the given text is d21ee9b9880b5af043471a7f93f261acfb7dd22003aa27ceac43f0a9585191fcee1d56bdbde4cc9294d0255dbbf15c4b70b25d53234f969c7127cf3178c42b7b\n"
          ],
          "name": "stdout"
        }
      ]
    },
    {
      "cell_type": "markdown",
      "metadata": {
        "id": "eDsJd2bVjJTn"
      },
      "source": [
        "Third part"
      ]
    },
    {
      "cell_type": "markdown",
      "metadata": {
        "id": "p-6qffmqeHbQ"
      },
      "source": [
        "Salting"
      ]
    },
    {
      "cell_type": "code",
      "metadata": {
        "id": "il1ogFO7hcS0"
      },
      "source": [
        "salt1 = \"pss\""
      ],
      "execution_count": 15,
      "outputs": []
    },
    {
      "cell_type": "code",
      "metadata": {
        "id": "C7J5uFLphIKV"
      },
      "source": [
        "hashed= hashlib.md5(salt1.encode()+text.encode())"
      ],
      "execution_count": 16,
      "outputs": []
    },
    {
      "cell_type": "code",
      "metadata": {
        "id": "g0qTd8pBeGlU"
      },
      "source": [
        "md5_hash1 = hashed.hexdigest()"
      ],
      "execution_count": 17,
      "outputs": []
    },
    {
      "cell_type": "code",
      "metadata": {
        "colab": {
          "base_uri": "https://localhost:8080/"
        },
        "id": "txRF7kOwh-v7",
        "outputId": "313c799d-9efd-4494-ba19-7256e65342d1"
      },
      "source": [
        "print(\"The salting hash of the given text and given salt is \"+ md5_hash1)"
      ],
      "execution_count": 18,
      "outputs": [
        {
          "output_type": "stream",
          "text": [
            "The salting hash of the given text and given salt is b3a72b880775a34bc1689b41f9b4225f\n"
          ],
          "name": "stdout"
        }
      ]
    },
    {
      "cell_type": "markdown",
      "metadata": {
        "id": "xdEdoQZ9jWLu"
      },
      "source": [
        "Iteration"
      ]
    },
    {
      "cell_type": "code",
      "metadata": {
        "id": "C516eZ4djYFi"
      },
      "source": [
        "a=text\n",
        "for i in range(5):\n",
        "      a = hashlib.md5(a.encode()).hexdigest()\n",
        "   "
      ],
      "execution_count": 65,
      "outputs": []
    },
    {
      "cell_type": "code",
      "metadata": {
        "colab": {
          "base_uri": "https://localhost:8080/"
        },
        "id": "qoKJm6iLqxh6",
        "outputId": "c26a150d-58be-4137-aceb-c0e5e0ac54d3"
      },
      "source": [
        "print (\" The hash after iteration method is \"+a)"
      ],
      "execution_count": 66,
      "outputs": [
        {
          "output_type": "stream",
          "text": [
            " The hash after iteration method is 6a328e37707f1866a0e31d645bac295c\n"
          ],
          "name": "stdout"
        }
      ]
    }
  ]
}