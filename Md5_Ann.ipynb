{
  "nbformat": 4,
  "nbformat_minor": 0,
  "metadata": {
    "colab": {
      "name": "Md5 Ann.ipynb",
      "provenance": []
    },
    "kernelspec": {
      "name": "python3",
      "display_name": "Python 3"
    },
    "language_info": {
      "name": "python"
    }
  },
  "cells": [
    {
      "cell_type": "code",
      "metadata": {
        "id": "n3zH6oFuM7FQ"
      },
      "source": [
        "import hashlib"
      ],
      "execution_count": 1,
      "outputs": []
    },
    {
      "cell_type": "code",
      "metadata": {
        "id": "RZj9nMvhM_qA"
      },
      "source": [
        "text = \"I am Harsh\""
      ],
      "execution_count": 2,
      "outputs": []
    },
    {
      "cell_type": "code",
      "metadata": {
        "id": "0Ztm3RMmNS0H"
      },
      "source": [
        "hash_obj = hashlib.md5(text.encode())"
      ],
      "execution_count": 3,
      "outputs": []
    },
    {
      "cell_type": "code",
      "metadata": {
        "id": "xuG2xjFHNedt"
      },
      "source": [
        "md5_hash = hash_obj.hexdigest()"
      ],
      "execution_count": 4,
      "outputs": []
    },
    {
      "cell_type": "code",
      "metadata": {
        "colab": {
          "base_uri": "https://localhost:8080/"
        },
        "id": "W8AHZmq9Nnm2",
        "outputId": "d6cf6554-b076-47df-b425-cec87ae4cfa0"
      },
      "source": [
        "print(md5_hash)"
      ],
      "execution_count": 5,
      "outputs": [
        {
          "output_type": "stream",
          "text": [
            "e0b7228ac01c09860018c61a3c9ae77a\n"
          ],
          "name": "stdout"
        }
      ]
    }
  ]
}